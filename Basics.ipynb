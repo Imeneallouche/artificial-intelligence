{
  "cells": [
    {
      "cell_type": "markdown",
      "metadata": {
        "id": "view-in-github",
        "colab_type": "text"
      },
      "source": [
        "<a href=\"https://colab.research.google.com/github/Imeneallouche/Machine-Learning/blob/main/Basics.ipynb\" target=\"_parent\"><img src=\"https://colab.research.google.com/assets/colab-badge.svg\" alt=\"Open In Colab\"/></a>"
      ]
    },
    {
      "cell_type": "markdown",
      "metadata": {
        "id": "NJjmVE3fbvh4"
      },
      "source": [
        "# **Import some useful libraries:** \n",
        "\n",
        "\n",
        "---\n",
        "\n",
        "\n",
        "**numpy:** multi-dimensional arrays and matrices,collection of high-level mathematical functions.\n",
        "\n",
        "**scipy:** optimization, linear algebra, integration, interpolation, special functions.\n",
        "\n",
        "**matplotlib:** for data vizualisation\n",
        "\n",
        "**sklearn:** classification, regression, clustering algorithms and support-vector machines"
      ]
    },
    {
      "cell_type": "code",
      "execution_count": null,
      "metadata": {
        "id": "JnzmLpIibviC"
      },
      "outputs": [],
      "source": [
        "import numpy\n",
        "from scipy import stats\n",
        "import sys  # output the drawing\n",
        "import matplotlib.pyplot as plt\n",
        "import sklearn"
      ]
    },
    {
      "cell_type": "markdown",
      "metadata": {
        "id": "6dnIoI8hbviF"
      },
      "source": [
        "**Learn about Mean, Median and Mode:**\n",
        "\n",
        "\n",
        "---\n",
        "\n",
        "\n",
        "\n",
        "**Mean:** the average value of a list of numbers.\n",
        "\n",
        "**Median:** the centered value in a sorted array.\n",
        "\n",
        "**Mode:** the most common and repeated value."
      ]
    },
    {
      "cell_type": "code",
      "execution_count": null,
      "metadata": {
        "colab": {
          "base_uri": "https://localhost:8080/"
        },
        "id": "O1Y2Rs_QbviG",
        "outputId": "be2047b5-c0b5-4e4b-fc14-e22f66da477b"
      },
      "outputs": [
        {
          "output_type": "stream",
          "name": "stdout",
          "text": [
            "mean of array:  32.38095238095238\n",
            "median of array:  31.0\n",
            "mode of array:  ModeResult(mode=array([31]), count=array([2]))\n"
          ]
        }
      ],
      "source": [
        "import numpy\n",
        "from scipy import stats\n",
        "\n",
        "array = [5, 31, 43, 48, 50, 41, 7, 11, 15, 39,\n",
        "         80, 82, 32, 2, 8, 6, 25, 36, 27, 61, 31]\n",
        "\n",
        "\n",
        "# the mean the median and the mode\n",
        "print(\"mean of array: \",numpy.mean(array))\n",
        "print(\"median of array: \",numpy.median(array))\n",
        "# mode() returns a ModeResult object that contains the mode number, and how many times the mode number.\n",
        "print(\"mode of array: \", stats.mode(array))"
      ]
    },
    {
      "cell_type": "markdown",
      "metadata": {
        "id": "KxQw72b9bviH"
      },
      "source": [
        "# **spread out the values using Standard Deviation and Variance**\n",
        "\n",
        "---\n",
        "\n",
        "A low standard deviation/Variance => most numbers are close to the mean.\n",
        "\n",
        "A high standard deviation/Variance => most values are spread out over a wider range. "
      ]
    },
    {
      "cell_type": "code",
      "execution_count": null,
      "metadata": {
        "colab": {
          "base_uri": "https://localhost:8080/"
        },
        "id": "kNkZVsVGbviI",
        "outputId": "588cd53b-47b6-4ea0-8d76-216ae6aec54c"
      },
      "outputs": [
        {
          "output_type": "stream",
          "name": "stdout",
          "text": [
            "the standard Deviation:  22.678868264524073\n",
            "The variance Variance:  514.3310657596372\n"
          ]
        }
      ],
      "source": [
        "# standard Deviation (sigma(X))\n",
        "print(\"the standard Deviation: \", numpy.std(array))\n",
        "\n",
        "# vriance(V(X) = sigma(X)²)\n",
        "print(\"The variance Variance: \", numpy.var(array))"
      ]
    },
    {
      "cell_type": "markdown",
      "metadata": {
        "id": "gX8oQfOTbviK"
      },
      "source": [
        "# **Big Data Creation with NumPy**\n",
        "\n",
        "---\n",
        "\n",
        "\n",
        "\n",
        "To create big data sets for testing, we use NumPy, which comes with a number of methods to create random data sets, of any size.\n",
        "\n",
        "In the example below we will create an array of 100 values ranging between 0 and 5 (float values)"
      ]
    },
    {
      "cell_type": "code",
      "source": [
        "BigData = numpy.random.uniform(0,5, 250)\n",
        "print(BigData)"
      ],
      "metadata": {
        "colab": {
          "base_uri": "https://localhost:8080/"
        },
        "id": "5kdQEa0Hhm3H",
        "outputId": "e032d252-00ca-4bd1-a2f9-cd953c549c6c"
      },
      "execution_count": null,
      "outputs": [
        {
          "output_type": "stream",
          "name": "stdout",
          "text": [
            "[0.42806262 2.97078236 0.9001619  4.43535625 0.4329774  1.26065811\n",
            " 0.32345232 2.55753662 3.90969795 0.10036178 4.84777629 3.10323104\n",
            " 1.04766308 2.89795336 3.16879168 2.75886379 4.03217024 3.7051956\n",
            " 3.04709861 1.69721432 4.60614085 1.69644686 1.68317079 0.94211347\n",
            " 0.76658292 0.77140778 3.02634701 3.9762678  4.20945646 0.39204915\n",
            " 0.79087554 4.26659951 0.49849569 3.15871865 3.0847546  0.71050266\n",
            " 1.47976544 2.29287065 1.5078651  2.97618478 0.824897   2.32588664\n",
            " 2.65412471 3.46547601 3.47895958 4.19632917 3.90199076 0.12926052\n",
            " 4.7268978  3.94166155 3.91564055 1.43477761 3.8811771  0.42459158\n",
            " 2.28715241 3.9943571  1.50021802 2.55730668 0.43447973 1.95639247\n",
            " 1.54912271 1.81910229 2.70695076 2.57317203 2.76581131 2.00271573\n",
            " 0.59896712 2.57487842 1.31450554 2.70344994 0.13293798 2.85409414\n",
            " 2.22582342 1.22667478 1.07041742 4.09669358 2.37794114 4.47940431\n",
            " 2.24521181 0.06362772 2.05557739 4.85194818 3.26783618 0.28922085\n",
            " 2.26834172 4.00175153 2.56523024 0.33082768 0.51182664 0.72644894\n",
            " 4.03372996 2.20826097 2.18404394 3.36197889 0.84021785 0.89240473\n",
            " 3.55589517 4.8134117  3.01288913 1.01467396 0.4621436  1.84548702\n",
            " 0.88210363 2.651119   1.0605611  2.00012218 2.25463437 3.37919498\n",
            " 0.16696821 4.90527117 1.52869865 0.99673429 0.4535792  1.10752824\n",
            " 3.60153971 1.4706167  0.45433559 4.36272173 4.14176436 4.33227102\n",
            " 2.65195423 2.58485397 4.89978968 2.29311861 0.87068678 4.09140909\n",
            " 4.49231662 4.33502195 1.81696106 0.34361154 0.01684088 1.29656306\n",
            " 4.48825709 0.46783899 1.18696372 3.3647494  3.56284268 4.98485726\n",
            " 3.05388414 4.83901038 3.53710833 3.52515298 1.65474944 1.11829211\n",
            " 0.79341526 1.77189478 3.56030867 4.14580219 4.31324216 1.74593887\n",
            " 1.58865203 1.42464269 2.62193839 1.53754438 0.69584839 2.23782824\n",
            " 3.4069626  1.33345112 4.0745243  0.9457886  0.32903434 2.78460386\n",
            " 3.23347677 2.4635694  0.85675539 4.43500216 0.93374541 2.22504337\n",
            " 2.13751601 4.74240174 2.82344326 1.88238472 3.05873756 2.21801999\n",
            " 4.47391597 1.3264391  2.85233111 4.64222815 3.70383539 1.18895925\n",
            " 4.93954007 3.27605573 2.56069831 3.19140326 0.87821981 2.93993632\n",
            " 3.63439799 0.81284535 4.75276867 2.30102424 1.02338862 0.88909145\n",
            " 3.06055418 1.59218655 1.35010909 3.53135733 1.96876159 0.48564566\n",
            " 0.42780644 0.73086813 1.66157634 2.08314988 3.69081512 0.16915117\n",
            " 2.56475523 1.04562617 3.29906753 2.26802378 1.39784117 1.69150724\n",
            " 3.30350294 0.56360787 1.62309751 2.72285069 4.09384285 0.78460734\n",
            " 4.23240218 0.7089972  1.10200262 0.17899229 0.18124543 4.55539357\n",
            " 3.12522739 3.4587148  1.40251727 1.35777264 3.98756002 3.45968398\n",
            " 3.86932403 0.19495164 2.80123211 1.84899791 3.22779461 1.90648624\n",
            " 1.7717002  4.44979745 0.48822805 1.32885956 0.28435706 1.18931998\n",
            " 4.6738872  4.29898502 0.8850005  1.46294806 4.38399911 2.42409928\n",
            " 2.54169803 1.22728681 3.34465646 3.25899982]\n"
          ]
        }
      ]
    },
    {
      "cell_type": "markdown",
      "source": [
        "# **Histogram**\n",
        "\n",
        "To visualize the data set we can draw a histogram with the data we collected.\n",
        "\n",
        "We will use the Python module Matplotlib to draw a histogram."
      ],
      "metadata": {
        "id": "W0hyHQqNiFFu"
      }
    },
    {
      "cell_type": "code",
      "source": [
        "#Three lines to make our compiler able to draw:\n",
        "import sys\n",
        "import matplotlib\n",
        "matplotlib.use('Agg')\n",
        "import numpy\n",
        "import matplotlib.pyplot as plt\n",
        "\n",
        "matplotlib.pyplot.hist(BigData,               #name of array\n",
        "                       bins=50,               #number of bars in the hist\n",
        "                       range=0,               #  \n",
        "                       density=False,         #\n",
        "                       weights=None,          #\n",
        "                       cumulative=False,      #\n",
        "                       bottom=None,           #\n",
        "                       histtype='bar',        #\n",
        "                       align='mid',           #\n",
        "                       orientation='vertical',#\n",
        "                       rwidth=None,           #\n",
        "                       log=False,             #\n",
        "                       color=None,            #\n",
        "                       label=None,            #\n",
        "                       stacked=False,         #\n",
        "                       data=None              #\n",
        "                      )\n",
        "\n",
        "plt.show()"
      ],
      "metadata": {
        "colab": {
          "base_uri": "https://localhost:8080/",
          "height": 265
        },
        "id": "696jHywWir2-",
        "outputId": "63b6c7ef-1b55-4c2c-a70a-5e5b1bad8f5d"
      },
      "execution_count": null,
      "outputs": [
        {
          "output_type": "display_data",
          "data": {
            "text/plain": [
              "<Figure size 432x288 with 1 Axes>"
            ],
            "image/png": "[encoded data removed]"
          },
          "metadata": {
            "needs_background": "light"
          }
        }
      ]
    }
  ],
  "metadata": {
    "kernelspec": {
      "display_name": "Python 3.10.5 64-bit",
      "language": "python",
      "name": "python3"
    },
    "language_info": {
      "codemirror_mode": {
        "name": "ipython",
        "version": 3
      },
      "file_extension": ".py",
      "mimetype": "text/x-python",
      "name": "python",
      "nbconvert_exporter": "python",
      "pygments_lexer": "ipython3",
      "version": "3.10.5"
    },
    "orig_nbformat": 4,
    "vscode": {
      "interpreter": {
        "hash": "bdae9ca21119ff20fe38fa050f692010f8b2d85a50bc090190a66b5de7892cb2"
      }
    },
    "colab": {
      "provenance": [],
      "collapsed_sections": [],
      "include_colab_link": true
    }
  },
  "nbformat": 4,
  "nbformat_minor": 0
}