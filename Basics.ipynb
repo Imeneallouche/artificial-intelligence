{
  "cells": [
    {
      "cell_type": "markdown",
      "metadata": {
        "id": "NJjmVE3fbvh4"
      },
      "source": [
        "**Import some useful libraries:** \n",
        "\n",
        "\n",
        "---\n",
        "\n",
        "\n",
        "**numpy:** multi-dimensional arrays and matrices,collection of high-level mathematical functions.\n",
        "\n",
        "**scipy:** optimization, linear algebra, integration, interpolation, special functions.\n",
        "\n",
        "**matplotlib:** for data vizualisation\n",
        "\n",
        "**sklearn:** classification, regression, clustering algorithms and support-vector machines"
      ]
    },
    {
      "cell_type": "code",
      "execution_count": null,
      "metadata": {
        "id": "JnzmLpIibviC"
      },
      "outputs": [],
      "source": [
        "import numpy\n",
        "from scipy import stats\n",
        "import sys  # output the drawing\n",
        "import matplotlib.pyplot as plt\n",
        "import sklearn"
      ]
    },
    {
      "cell_type": "markdown",
      "metadata": {
        "id": "6dnIoI8hbviF"
      },
      "source": [
        "**Learn about Mean, Median and Mode:**\n",
        "\n",
        "\n",
        "---\n",
        "\n",
        "\n",
        "\n",
        "**Mean:** the average value of a list of numbers.\n",
        "\n",
        "**Median:** the centered value in a sorted array.\n",
        "\n",
        "**Mode:** the most common and repeated value."
      ]
    },
    {
      "cell_type": "code",
      "execution_count": 6,
      "metadata": {
        "colab": {
          "base_uri": "https://localhost:8080/"
        },
        "id": "O1Y2Rs_QbviG",
        "outputId": "be2047b5-c0b5-4e4b-fc14-e22f66da477b"
      },
      "outputs": [
        {
          "output_type": "stream",
          "name": "stdout",
          "text": [
            "mean of array:  32.38095238095238\n",
            "median of array:  31.0\n",
            "mode of array:  ModeResult(mode=array([31]), count=array([2]))\n"
          ]
        }
      ],
      "source": [
        "import numpy\n",
        "from scipy import stats\n",
        "\n",
        "array = [5, 31, 43, 48, 50, 41, 7, 11, 15, 39,\n",
        "         80, 82, 32, 2, 8, 6, 25, 36, 27, 61, 31]\n",
        "\n",
        "\n",
        "# the mean the median and the mode\n",
        "print(\"mean of array: \",numpy.mean(array))\n",
        "print(\"median of array: \",numpy.median(array))\n",
        "# mode() returns a ModeResult object that contains the mode number, and how many times the mode number.\n",
        "print(\"mode of array: \", stats.mode(array))"
      ]
    },
    {
      "cell_type": "markdown",
      "metadata": {
        "id": "KxQw72b9bviH"
      },
      "source": [
        "how spread out the values are using: \n",
        "\n",
        " 1- Standard Deviation\n",
        "\n",
        " 2- Variance\n",
        "\n",
        "\n",
        "---\n",
        "\n",
        "\n",
        "\n",
        "A low standard deviation/Variance => most numbers are close to the mean.\n",
        "\n",
        "A high standard deviation/Variance => most values are spread out over a wider range. "
      ]
    },
    {
      "cell_type": "code",
      "execution_count": 7,
      "metadata": {
        "colab": {
          "base_uri": "https://localhost:8080/"
        },
        "id": "kNkZVsVGbviI",
        "outputId": "588cd53b-47b6-4ea0-8d76-216ae6aec54c"
      },
      "outputs": [
        {
          "output_type": "stream",
          "name": "stdout",
          "text": [
            "the standard Deviation:  22.678868264524073\n",
            "The variance Variance:  514.3310657596372\n"
          ]
        }
      ],
      "source": [
        "# standard Deviation (sigma(X))\n",
        "print(\"the standard Deviation: \", numpy.std(array))\n",
        "\n",
        "# vriance(V(X) = sigma(X)²)\n",
        "print(\"The variance Variance: \", numpy.var(array))"
      ]
    },
    {
      "cell_type": "markdown",
      "metadata": {
        "id": "gX8oQfOTbviK"
      },
      "source": [
        "**Big Data Creation with NumPy**\n",
        "\n",
        "---\n",
        "\n",
        "\n",
        "\n",
        "To create big data sets for testing, we use NumPy, which comes with a number of methods to create random data sets, of any size.\n",
        "\n",
        "In the example below we will create an array of 250 values ranging between 0 and 5 (float values)"
      ]
    }
  ],
  "metadata": {
    "kernelspec": {
      "display_name": "Python 3.10.5 64-bit",
      "language": "python",
      "name": "python3"
    },
    "language_info": {
      "codemirror_mode": {
        "name": "ipython",
        "version": 3
      },
      "file_extension": ".py",
      "mimetype": "text/x-python",
      "name": "python",
      "nbconvert_exporter": "python",
      "pygments_lexer": "ipython3",
      "version": "3.10.5"
    },
    "orig_nbformat": 4,
    "vscode": {
      "interpreter": {
        "hash": "bdae9ca21119ff20fe38fa050f692010f8b2d85a50bc090190a66b5de7892cb2"
      }
    },
    "colab": {
      "provenance": [],
      "collapsed_sections": []
    }
  },
  "nbformat": 4,
  "nbformat_minor": 0
}