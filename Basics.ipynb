{
 "cells": [
  {
   "cell_type": "markdown",
   "metadata": {},
   "source": [
    "Import some useful libraries: \n",
    "\n",
    "numpy : for the support of large, multi-dimensional arrays and matrices, along with a large collection of high-level mathematical functions to operate on these arrays\n",
    "\n",
    "scipy: for optimization, linear algebra, integration, interpolation, special functions, FFT, signal and image processing, ODE solvers and other tasks common in science and engineering.\n",
    "\n",
    "\n",
    "matplotlib: for data vizualisation\n",
    "\n",
    "sklearn: It features various machine learning algorithms such as : classification, regression and clustering algorithms including support-vector machines"
   ]
  },
  {
   "cell_type": "markdown",
   "metadata": {},
   "source": [
    "gineering.\n",
    "\n",
    "\n",
    "matplotlib: for data vizualisation\n",
    "\n",
    "sklearn: It features various machine learning algorithms such as : classification, regression and clustering algorithms including support-vector machines"
   ]
  },
  {
   "cell_type": "code",
   "execution_count": 5,
   "metadata": {},
   "outputs": [],
   "source": [
    "import numpy\n",
    "from scipy import stats\n",
    "import sys  # output the drawing\n",
    "import matplotlib.pyplot as plt\n",
    "import sklearn"
   ]
  },
  {
   "cell_type": "markdown",
   "metadata": {},
   "source": [
    "Learn about Mean, Median and Mode:\n",
    "\n",
    "Mean: the average value of a list of numbers. In NumPy Library: numpy.mean(array_name)\n",
    "Median: the centered value in a sorted array. In NumPy Library: numpy.median(array_name)\n",
    "Mode: the most common and repeated value. In SciPy Library: from scipy import stats; stats.mode(array_name)"
   ]
  },
  {
   "cell_type": "code",
   "execution_count": 4,
   "metadata": {},
   "outputs": [
    {
     "name": "stdout",
     "output_type": "stream",
     "text": [
      "mean of array:  32.38095238095238\n",
      "median of array:  31.0\n",
      "mode of array:  ModeResult(mode=array([31]), count=array([2]))\n"
     ]
    },
    {
     "name": "stderr",
     "output_type": "stream",
     "text": [
      "C:\\Users\\imene\\AppData\\Local\\Temp\\ipykernel_19952\\2397456851.py:9: FutureWarning: Unlike other reduction functions (e.g. `skew`, `kurtosis`), the default behavior of `mode` typically preserves the axis it acts along. In SciPy 1.11.0, this behavior will change: the default value of `keepdims` will become False, the `axis` over which the statistic is taken will be eliminated, and the value None will no longer be accepted. Set `keepdims` to True or False to avoid this warning.\n",
      "  print(\"mode of array: \", stats.mode(array))\n"
     ]
    }
   ],
   "source": [
    "array = [5, 31, 43, 48, 50, 41, 7, 11, 15, 39,\n",
    "         80, 82, 32, 2, 8, 6, 25, 36, 27, 61, 31]\n",
    "\n",
    "\n",
    "# the mean the median and the mode\n",
    "print(\"mean of array: \", numpy.mean(array))\n",
    "print(\"median of array: \", numpy.median(array))\n",
    "# mode() returns a ModeResult object that contains the mode number, and how many times the mode number.\n",
    "print(\"mode of array: \", stats.mode(array))"
   ]
  },
  {
   "cell_type": "markdown",
   "metadata": {},
   "source": [
    "Ways to determine how spread out the values are: Standard Deviation and Variance\n",
    "\n",
    "A low standard deviation / Variance means that most of the numbers are close to the mean (average) value.\n",
    "A high standard deviation / Variance means that the values are spread out over a wider range. "
   ]
  },
  {
   "cell_type": "code",
   "execution_count": 6,
   "metadata": {},
   "outputs": [
    {
     "name": "stdout",
     "output_type": "stream",
     "text": [
      "the standard Deviation:  22.678868264524073\n",
      "variance:  514.3310657596372\n"
     ]
    }
   ],
   "source": [
    "# standard Deviation (sigma(X))\n",
    "print(\"the standard Deviation: \", numpy.std(array))\n",
    "\n",
    "# vriance(V(X) = sigma(X)²)\n",
    "print(\"The variance Variance: \", numpy.var(array))"
   ]
  },
  {
   "cell_type": "markdown",
   "metadata": {},
   "source": [
    "Big Data Creation with NumPy\n",
    "\n",
    "To create big data sets for testing, we use the Python module NumPy, which comes with a number of methods to create random data sets, of any size.\n",
    "\n",
    "In the example below we will create an array of 250 values ranging between 0 and 5 (float values)"
   ]
  }
 ],
 "metadata": {
  "kernelspec": {
   "display_name": "Python 3.10.5 64-bit",
   "language": "python",
   "name": "python3"
  },
  "language_info": {
   "codemirror_mode": {
    "name": "ipython",
    "version": 3
   },
   "file_extension": ".py",
   "mimetype": "text/x-python",
   "name": "python",
   "nbconvert_exporter": "python",
   "pygments_lexer": "ipython3",
   "version": "3.10.5"
  },
  "orig_nbformat": 4,
  "vscode": {
   "interpreter": {
    "hash": "bdae9ca21119ff20fe38fa050f692010f8b2d85a50bc090190a66b5de7892cb2"
   }
  }
 },
 "nbformat": 4,
 "nbformat_minor": 2
}
