{
  "nbformat": 4,
  "nbformat_minor": 0,
  "metadata": {
    "colab": {
      "provenance": [],
      "authorship_tag": "ABX9TyNLYMHMpKgT7wyl5417njmT",
      "include_colab_link": true
    },
    "kernelspec": {
      "name": "python3",
      "display_name": "Python 3"
    },
    "language_info": {
      "name": "python"
    }
  },
  "cells": [
    {
      "cell_type": "markdown",
      "metadata": {
        "id": "view-in-github",
        "colab_type": "text"
      },
      "source": [
        "<a href=\"https://colab.research.google.com/github/Imeneallouche/Artificial-Intelligence/blob/main/improving_model_performance.ipynb\" target=\"_parent\"><img src=\"https://colab.research.google.com/assets/colab-badge.svg\" alt=\"Open In Colab\"/></a>"
      ]
    },
    {
      "cell_type": "markdown",
      "source": [
        "# **Preparing Model for tuning:**\n",
        "Let's tune the hyperparameters of a binary classification model that does well classifying the breast cancer dataset.\n",
        "\n",
        "You've seen that the first step to turn a model into a sklearn estimator is to build a function that creates it. The definition of this function is important since hyperparameter tuning is carried out by varying the arguments your function receives.\n",
        "\n",
        "Build a simple create_model() function that receives both a learning rate and an activation function as arguments. The Adam optimizer has been imported as an object from tensorflow.keras.optimizers so that you can also change its learning rate parameter.\n"
      ],
      "metadata": {
        "id": "3TR38Pyislq5"
      }
    },
    {
      "cell_type": "code",
      "execution_count": null,
      "metadata": {
        "id": "Is9viBGvpi1c"
      },
      "outputs": [],
      "source": [
        "# Creates a model given an activation and learning rate\n",
        "def create_model(learning_rate, activation):\n",
        "  \n",
        "  \t# Create an Adam optimizer with the given learning rate\n",
        "  \topt = Adam(lr = learning_rate)\n",
        "  \t\n",
        "  \t# Create your binary classification model  \n",
        "  \tmodel = Sequential()\n",
        "  \tmodel.add(Dense(128, input_shape = (30,), activation = activation))\n",
        "  \tmodel.add(Dense(256, activation = activation))\n",
        "  \tmodel.add(Dense(1, activation = 'sigmoid'))\n",
        "  \t\n",
        "  \t# Compile your model with your optimizer, loss, and metrics\n",
        "  \tmodel.compile(optimizer = opt, loss = 'loss', metrics = ['accuracy'])\n",
        "  \treturn model"
      ]
    },
    {
      "cell_type": "markdown",
      "source": [
        "# **Tuning the model parameters**\n",
        "\n",
        "It's time to try out different parameters on your model and see how well it performs!\n",
        "\n",
        "The create_model() function you built in the previous exercise is ready for you to use.\n",
        "\n",
        "Since fitting the RandomizedSearchCV object would take too long, the results you'd get are printed in the show_results() function. You could try random_search.fit(X,y) in the console yourself to check it does work after you have built everything else, but you will probably timeout the exercise (so copy your code first if you try this or you can lose your progress!).\n",
        "\n",
        "You don't need to use the optional epochs and batch_size parameters when building your KerasClassifier object since you are passing them as params to the random search and this works already."
      ],
      "metadata": {
        "id": "UlAnBC_mtmcV"
      }
    },
    {
      "cell_type": "code",
      "source": [
        "# Import KerasClassifier from tensorflow.keras scikit learn wrappers\n",
        "from tensorflow.keras.wrappers.scikit_learn import KerasClassifier\n",
        "\n",
        "# Create a KerasClassifier\n",
        "model = KerasClassifier(build_fn= create_model)\n",
        "\n",
        "# Define the parameters to try out\n",
        "params = {'activation': ['relu','tanh'], 'batch_size': [32,128, 256], \n",
        "          'epochs': [50,100,200], 'learning_rate': [0.1, 0.01, 0.001]}\n",
        "\n",
        "# Create a randomize search cv object passing in the parameters to try\n",
        "random_search = RandomizedSearchCV(model, param_distributions = params, cv = KFold(3))\n",
        "\n",
        "# Running random_search.fit(X,y) would start the search,but it takes too long! \n",
        "show_results()"
      ],
      "metadata": {
        "id": "70Kyz9r8tnMq"
      },
      "execution_count": null,
      "outputs": []
    },
    {
      "cell_type": "markdown",
      "source": [
        "# **Training with cross-validation**\n",
        "Time to train your model with the best parameters found: 0.001 for the learning rate, 50 epochs, a 128 batch_size and relu activations.\n",
        "\n",
        "The create_model() function from the previous exercise is ready for you to use. X and y are loaded as features and labels.\n",
        "\n",
        "Use the best values found for your model when creating your KerasClassifier object so that they are used when performing cross_validation.\n",
        "\n",
        "End this chapter by training an awesome tuned model on the breast cancer dataset!"
      ],
      "metadata": {
        "id": "u01rLv-BuGzZ"
      }
    },
    {
      "cell_type": "code",
      "source": [
        "# Import KerasClassifier from tensorflow.keras wrappers\n",
        "from tensorflow.keras.wrappers.scikit_learn import KerasClassifier\n",
        "\n",
        "# Create a KerasClassifier\n",
        "model = KerasClassifier(build_fn = create_model(learning_rate = 0.001, activation = 'relu'), epochs = 50, \n",
        "             batch_size = 128, verbose = 0)\n",
        "\n",
        "# Calculate the accuracy score for each fold\n",
        "kfolds = cross_val_score(model,X,y, cv =3)\n",
        "\n",
        "# Print the mean accuracy\n",
        "print('The mean accuracy was:', kfolds.mean())\n",
        "\n",
        "# Print the accuracy standard deviation\n",
        "print('With a standard deviation of:', kfolds.std())"
      ],
      "metadata": {
        "id": "TbCMjJ2guQ-4"
      },
      "execution_count": null,
      "outputs": []
    }
  ]
}