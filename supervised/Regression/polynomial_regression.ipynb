{
  "nbformat": 4,
  "nbformat_minor": 0,
  "metadata": {
    "colab": {
      "provenance": [],
      "collapsed_sections": [],
      "authorship_tag": "ABX9TyOn5dpUx8Fo0GTnhI3J2c6B",
      "include_colab_link": true
    },
    "kernelspec": {
      "name": "python3",
      "display_name": "Python 3"
    },
    "language_info": {
      "name": "python"
    }
  },
  "cells": [
    {
      "cell_type": "markdown",
      "metadata": {
        "id": "view-in-github",
        "colab_type": "text"
      },
      "source": [
        "<a href=\"https://colab.research.google.com/github/Imeneallouche/Machine-Learning/blob/main/polynomial_regression.ipynb\" target=\"_parent\"><img src=\"https://colab.research.google.com/assets/colab-badge.svg\" alt=\"Open In Colab\"/></a>"
      ]
    },
    {
      "cell_type": "markdown",
      "source": [],
      "metadata": {
        "id": "k165tGVCXFXW"
      }
    },
    {
      "cell_type": "markdown",
      "source": [
        "# **Polynomial Regression**\n",
        "\n",
        "If your data points will clearly not fit a linear regression (a straight line through all data points), it might be ideal for polynomial regression.\n",
        "\n",
        "Polynomial regression, like linear regression, uses the relationship between the variables x and y to find the best way to draw a line through the data points."
      ],
      "metadata": {
        "id": "PvQi-yL0XG-T"
      }
    },
    {
      "cell_type": "markdown",
      "source": [
        "# **How Does it Work?**\n",
        "\n",
        "Python has methods for finding a relationship between data-points and to draw a line of polynomial regression.\n",
        "\n",
        "Example: we have registered 18 cars speed and time of day as they were passing a certain tollbooth.\n",
        "\n",
        "The x-axis represents the hours of the day and the y-axis represents the speed:\n"
      ],
      "metadata": {
        "id": "OJlLLzmf8_ap"
      }
    },
    {
      "cell_type": "markdown",
      "source": [
        "# **STEP 1: Draw the scatter**"
      ],
      "metadata": {
        "id": "aKQZ_lEq90Ml"
      }
    },
    {
      "cell_type": "code",
      "source": [
        "import matplotlib.pyplot as plt\n",
        "%matplotlib inline\n",
        "\n",
        "\n",
        "day_hours= [1,2,3,5,6,7,8,9,10,12,13,14,15,16,18,19,21,22]\n",
        "speed = [100,90,80,60,60,55,60,65,70,70,75,76,78,79,90,99,99,100]\n",
        "\n",
        "plt.scatter(day_hours,speed, color=\"red\")\n",
        "plt.show()"
      ],
      "metadata": {
        "colab": {
          "base_uri": "https://localhost:8080/",
          "height": 265
        },
        "id": "s502aGC8XSsV",
        "outputId": "87f8f2b5-6c51-4982-c3df-ff5710a7e870"
      },
      "execution_count": 20,
      "outputs": [
        {
          "output_type": "display_data",
          "data": {
            "text/plain": [
              "<Figure size 432x288 with 1 Axes>"
            ],
            "image/png": "[encoded data removed]"
          },
          "metadata": {
            "needs_background": "light"
          }
        }
      ]
    },
    {
      "cell_type": "markdown",
      "source": [
        "# **STEP 2 : Use NumPy to draw the polynomial regression Line**\n"
      ],
      "metadata": {
        "id": "u-ovzaIf-HoW"
      }
    },
    {
      "cell_type": "code",
      "source": [
        "import matplotlib.pyplot as plt\n",
        "%matplotlib inline\n",
        "import numpy\n",
        "\n",
        "\n",
        "day_hours= [1,2,3,5,6,7,8,9,10,12,13,14,15,16,18,19,21,22]          #create the x_axis array\n",
        "speed = [100,90,80,60,60,55,60,65,70,70,75,76,78,79,90,99,99,100]   #create the y_axis array\n",
        "\n",
        "\n",
        "mymodel = numpy.poly1d(numpy.polyfit(day_hours, speed,5))           #make the polynomial model with numpy\n",
        "\n",
        "myline = numpy.linspace(1,22,100)                                   #speficy the displaying of the line (starts at point 1, ends at 22)\n",
        "\n",
        "\n",
        "plt.scatter(day_hours, speed, color=\"red\")                          #Draw the original scatter\n",
        "plt.plot(myline, mymodel(myline), color=\"green\")                    #Draw the polynomial line\n",
        "plt.show()                                                          #Display both in the same diagram"
      ],
      "metadata": {
        "colab": {
          "base_uri": "https://localhost:8080/",
          "height": 265
        },
        "id": "wczP3VW4-ZHh",
        "outputId": "772b69b2-122f-43bd-a09f-e02301997cc5"
      },
      "execution_count": 46,
      "outputs": [
        {
          "output_type": "display_data",
          "data": {
            "text/plain": [
              "<Figure size 432x288 with 1 Axes>"
            ],
            "image/png": "[encoded data removed]"
          },
          "metadata": {
            "needs_background": "light"
          }
        }
      ]
    },
    {
      "cell_type": "markdown",
      "source": [
        "# **R Squared Value**\n",
        "\n",
        "In order to know whether the polynomial regression model is a fit for our study or not, we should know how well the relationship between x_axis values and y_axis values are.\n",
        "\n",
        "The relationship is measured with a value called : **R Squared**\n",
        "\n",
        "***0 < R Suqared < 1:*** R close to 0 => bad relationship R close to 1 => perfect relationship"
      ],
      "metadata": {
        "id": "XBYFf2j9B5Ml"
      }
    },
    {
      "cell_type": "code",
      "source": [
        "import numpy\n",
        "from sklearn.metrics import r2_score\n",
        "\n",
        "x_axis = [1,2,3,5,6,7,8,9,10,12,13,14,15,16,18,19,21,22]\n",
        "y_axis = [100,90,80,60,60,55,60,65,70,70,75,76,78,79,90,99,99,100]\n",
        "\n",
        "\n",
        "coeffs = numpy.polyfit(day_hours,speed,3)                             #numpy.polyfit(1st axis, 2nd axis, nb of elem in array)\n",
        "print(\"the coeffs of the polynomial equation: \", coeffs)              #returns the coeffs of the equation in an array\n",
        "\n",
        "mymodel = numpy.poly1d(coeffs)                                        #numpy.poly1d(array of coeffs)\n",
        "print(\"the equation of the polynomial function: \\n\", mymodel)         #numpy.poly1d([a,b,c])as an example returns ax²+bx+c\n",
        "\n",
        "print(\"the relationship between day hours and speed: \",r2_score(y_axis, mymodel(x_axis)))"
      ],
      "metadata": {
        "colab": {
          "base_uri": "https://localhost:8080/"
        },
        "id": "EjqGSQ44EDVF",
        "outputId": "69c232c2-45f5-4d2c-b0d0-5c017ec8f3de"
      },
      "execution_count": 32,
      "outputs": [
        {
          "output_type": "stream",
          "name": "stdout",
          "text": [
            "the coeffs of the polynomial equation:  [-3.03208795e-02  1.34333191e+00 -1.55383039e+01  1.13768037e+02]\n",
            "the equation of the polynomial function: \n",
            "           3         2\n",
            "-0.03032 x + 1.343 x - 15.54 x + 113.8\n",
            "the relationship between day hours and speed:  0.9432150416451025\n"
          ]
        }
      ]
    },
    {
      "cell_type": "markdown",
      "source": [
        "# **Predict future values**\n",
        "Thanks to the polynomial equation and the close to 1 value of R squared, we now can predict future values using the **mymodel** function as follows:"
      ],
      "metadata": {
        "id": "zClcnYlZ2t4R"
      }
    },
    {
      "cell_type": "code",
      "source": [
        "from sklearn.metrics import r2_score\n",
        "import numpy\n",
        "\n",
        "x_axis = [1,2,3,5,6,7,8,9,10,12,13,14,15,16,18,19,21,22]\n",
        "y_axis = [100,90,80,60,60,55,60,65,70,70,75,76,78,79,90,99,99,100]\n",
        "\n",
        "mymodel = numpy.poly1d(numpy.polyfit(x_axis,y_axis,5))\n",
        "\n",
        "hour_to_predict=input(\"what is the hour you wanna predict its result: \")\n",
        "speed_predicted=mymodel(float(hour_to_predict))\n",
        "print(\"here is the average speed: \", speed_predicted)"
      ],
      "metadata": {
        "colab": {
          "base_uri": "https://localhost:8080/"
        },
        "id": "yJomszD92yYy",
        "outputId": "717d14e7-e628-402d-d9fa-3896ec0a9393"
      },
      "execution_count": 31,
      "outputs": [
        {
          "output_type": "stream",
          "name": "stdout",
          "text": [
            "what is the hour you wanna predict its result: 17.69\n",
            "here is the average speed:  89.6340011534378\n"
          ]
        }
      ]
    },
    {
      "cell_type": "markdown",
      "source": [
        "# **Bad Fit example for polynomial regression**\n",
        "\n"
      ],
      "metadata": {
        "id": "lmBYoRk79ep8"
      }
    },
    {
      "cell_type": "code",
      "source": [
        "import matplotlib.pyplot as plt\n",
        "import numpy\n",
        "from sklearn.metrics import r2_score\n",
        "%matplotlib inline\n",
        "\n",
        "x = [89,43,36,36,95,10,66,34,38,20,26,29,48,64,6,5,36,66,72,40]\n",
        "y = [21,46,3,35,67,95,53,72,58,10,26,34,90,33,38,20,56,2,47,15]\n",
        "\n",
        "mymodel = numpy.poly1d(numpy.polyfit(x,y,5))\n",
        "myline = numpy.linspace(5,95,100)\n",
        "\n",
        "print(\"bad relationship: \", r2_score(y,mymodel(x)))\n",
        "plt.scatter(x,y)\n",
        "plt.plot(myline, mymodel(myline))\n",
        "plt.show()"
      ],
      "metadata": {
        "colab": {
          "base_uri": "https://localhost:8080/",
          "height": 283
        },
        "id": "FDNclPiu9zLy",
        "outputId": "f6dbc058-af48-4c78-c6a7-49e35aa151a4"
      },
      "execution_count": 50,
      "outputs": [
        {
          "output_type": "stream",
          "name": "stdout",
          "text": [
            "bad relationship:  0.1526912647033184\n"
          ]
        },
        {
          "output_type": "display_data",
          "data": {
            "text/plain": [
              "<Figure size 432x288 with 1 Axes>"
            ],
            "image/png": "[encoded data removed]"
          },
          "metadata": {
            "needs_background": "light"
          }
        }
      ]
    }
  ]
}