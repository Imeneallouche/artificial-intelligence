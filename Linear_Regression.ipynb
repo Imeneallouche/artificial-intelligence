{
  "nbformat": 4,
  "nbformat_minor": 0,
  "metadata": {
    "colab": {
      "provenance": [],
      "collapsed_sections": [],
      "authorship_tag": "ABX9TyMgJ/I7uf5Vu/cng/uUgnlN",
      "include_colab_link": true
    },
    "kernelspec": {
      "name": "python3",
      "display_name": "Python 3"
    },
    "language_info": {
      "name": "python"
    }
  },
  "cells": [
    {
      "cell_type": "markdown",
      "metadata": {
        "id": "view-in-github",
        "colab_type": "text"
      },
      "source": [
        "<a href=\"https://colab.research.google.com/github/Imeneallouche/Machine-Learning/blob/main/Linear_Regression.ipynb\" target=\"_parent\"><img src=\"https://colab.research.google.com/assets/colab-badge.svg\" alt=\"Open In Colab\"/></a>"
      ]
    },
    {
      "cell_type": "markdown",
      "source": [
        "# **Linear Regression**\n",
        "\n",
        "The term regression is used when you try to find the relationship between variables.\n",
        "\n",
        "In Machine Learning, and in statistical modeling, that relationship is used to predict the outcome of future events.\n",
        "\n",
        "Linear regression uses the relationship between the data-points to draw a straight line through all them.\n",
        "\n",
        "This line can be used to predict future values."
      ],
      "metadata": {
        "id": "5SvqEx_5xn59"
      }
    },
    {
      "cell_type": "markdown",
      "source": [
        "# **How Does it Work?**\n",
        "\n",
        "In the example below, the x-axis represents age, and the y-axis represents speed. We have registered the age and speed of 13 cars: "
      ],
      "metadata": {
        "id": "rQ86pC7Mz0sH"
      }
    },
    {
      "cell_type": "markdown",
      "source": [
        "# **STEP 1 : Draw the equivalent scatter**"
      ],
      "metadata": {
        "id": "JdMU5i9Y0Mtw"
      }
    },
    {
      "cell_type": "code",
      "source": [
        "import matplotlib.pyplot as plt\n",
        "\n",
        "car_age = [5,7,8,7,2,17,2,9,4,11,12,9,6]\n",
        "car_speed = [99,86,87,88,111,86,103,87,94,78,77,85,86]\n",
        "\n",
        "plt.scatter(car_age, car_speed, color=\"green\")\n",
        "plt.show()"
      ],
      "metadata": {
        "id": "AtyFdNch0VYn",
        "colab": {
          "base_uri": "https://localhost:8080/",
          "height": 265
        },
        "outputId": "da3b038f-809f-4f07-aec9-97766d6f33f3"
      },
      "execution_count": 2,
      "outputs": [
        {
          "output_type": "display_data",
          "data": {
            "text/plain": [
              "<Figure size 432x288 with 1 Axes>"
            ],
            "image/png": "[encoded data removed]"
          },
          "metadata": {
            "needs_background": "light"
          }
        }
      ]
    },
    {
      "cell_type": "markdown",
      "source": [
        "# **STEP 2: Use Scipy to draw the linear regression line**\n",
        "\n",
        "***Intercept:*** value of a in the linear regression equation: Y=aX+b\n",
        "\n",
        "***Slope:*** value of b in the linear regression equation Y=aX+b.\n",
        "\n",
        "***rvalue:*** (-1 ≤ r ≤ 1) \\\n",
        "r close to -1 => negative correlation between variables (when one increases the other decreases and vice versa) \\\n",
        "r close to 1 => positive correlation between variables (when one increases the other increases and vice versa) \\\n",
        "r close to 0 => the 2 variables are not correlated (no linear relationship exists between them)\\\n",
        "\n",
        "\n",
        "***pvalue:*** The p-value is the probability that the null hypothesis is true. (1 – the p-value) is the probability that the alternative hypothesis is true. A low p-value shows that the results are replicable. A low p-value shows that the effect is large or that the result is of major theoretical, clinical or practical importance\n",
        "\n",
        "***std_err:*** the average distance that the observed values fall from the regression line."
      ],
      "metadata": {
        "id": "aqKtijIi08xi"
      }
    },
    {
      "cell_type": "code",
      "source": [
        "import matplotlib\n",
        "matplotlib.use('Agg')\n",
        "import matplotlib.pyplot as plt\n",
        "from scipy import stats \n",
        "%matplotlib inline\n",
        "\n",
        "x = [5,7,8,7,2,17,2,9,4,11,12,9,6]\n",
        "y = [99,86,87,88,111,86,103,87,94,78,77,85,86]\n",
        "\n",
        "\n",
        "slope, intercept, rvalue, pvalue, std_err= stats.linregress(x, y)\n",
        "\n",
        "print(\"slope: \", slope)\n",
        "print(\"intercept: \",intercept)\n",
        "print(\"rvalue: \", rvalue)\n",
        "print(\"pvalue: \", pvalue)\n",
        "print(\"std_err: \" ,std_err)\n",
        "\n",
        "def linear_regression_line(x):\n",
        "  return slope * x + intercept\n",
        "\n",
        "mymodel = list(map(linear_regression_line, x))\n",
        "\n",
        "plt.scatter(x, y, color=\"red\")\n",
        "plt.plot(x, mymodel, color=\"green\")   #this is the responsible instruction for making the linear regression line\n",
        "plt.show()                            #show the scatter"
      ],
      "metadata": {
        "colab": {
          "base_uri": "https://localhost:8080/",
          "height": 356
        },
        "id": "BL_RhCEG1N86",
        "outputId": "f54820e3-bc3b-45a1-ccc0-8d1287835b2a"
      },
      "execution_count": 3,
      "outputs": [
        {
          "output_type": "stream",
          "name": "stdout",
          "text": [
            "slope:  -1.7512877115526118\n",
            "intercept:  103.10596026490066\n",
            "rvalue:  -0.758591524376155\n",
            "pvalue:  0.0026468739224561064\n",
            "std_err:  0.453536157607742\n"
          ]
        },
        {
          "output_type": "display_data",
          "data": {
            "text/plain": [
              "<Figure size 432x288 with 1 Axes>"
            ],
            "image/png": "[encoded data removed]"
          },
          "metadata": {
            "needs_background": "light"
          }
        }
      ]
    },
    {
      "cell_type": "markdown",
      "source": [
        "# **Bad fit example for linear regression**\n",
        "\n",
        "the following example indicates that r is close to 0 which means there is no relation between x values and y values. Here, the linear regression will be bad model to predict future data."
      ],
      "metadata": {
        "id": "3KwhG64HiV7I"
      }
    },
    {
      "cell_type": "code",
      "source": [
        "import matplotlib.pyplot as plt\n",
        "from scipy import stats\n",
        "\n",
        "x_axis = [89,43,36,36,95,10,66,34,38,20,26,29,48,64,6,5,36,66,72,40]\n",
        "y_axis = [21,46,3,35,67,95,53,72,58,10,26,34,90,33,38,20,56,2,47,15]\n",
        "\n",
        "slope, intercept, rvalue, pvalue, std_err = stats.linregress(x_axis, y_axis)\n",
        "print(\"the r value: \",rvalue)\n",
        "print(\"r value (close to 0) tells us linear regression is a bad model to use in this case to predict future results due to the bad relationship between input and output\")\n",
        "\n",
        "def linear_regression_line(x):\n",
        "  return (slope*x+intercept)\n",
        "\n",
        "mymodel = list(map(linear_regression_line, x_axis))\n",
        "\n",
        "plt.scatter(x_axis, y_axis, color=\"red\")\n",
        "plt.plot(x_axis, mymodel,color=\"green\")\n",
        "plt.show()"
      ],
      "metadata": {
        "colab": {
          "base_uri": "https://localhost:8080/",
          "height": 301
        },
        "id": "i839QHNsmy0d",
        "outputId": "14d477da-33c1-4d7f-c3d0-9fea53bca88f"
      },
      "execution_count": 4,
      "outputs": [
        {
          "output_type": "stream",
          "name": "stdout",
          "text": [
            "the r value:  0.01331814154297491\n",
            "r value (close to 0) tells us linear regression is a bad model to use in this case to predict future results due to the bad relationship between input and output\n"
          ]
        },
        {
          "output_type": "display_data",
          "data": {
            "text/plain": [
              "<Figure size 432x288 with 1 Axes>"
            ],
            "image/png": "[encoded data removed]"
          },
          "metadata": {
            "needs_background": "light"
          }
        }
      ]
    }
  ]
}