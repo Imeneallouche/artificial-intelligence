{
  "nbformat": 4,
  "nbformat_minor": 0,
  "metadata": {
    "colab": {
      "provenance": [],
      "collapsed_sections": [],
      "authorship_tag": "ABX9TyMEieFrdsfUS+gjK0j9SR/8",
      "include_colab_link": true
    },
    "kernelspec": {
      "name": "python3",
      "display_name": "Python 3"
    },
    "language_info": {
      "name": "python"
    }
  },
  "cells": [
    {
      "cell_type": "markdown",
      "metadata": {
        "id": "view-in-github",
        "colab_type": "text"
      },
      "source": [
        "<a href=\"https://colab.research.google.com/github/Imeneallouche/Machine-Learning/blob/main/Linear_Regression.ipynb\" target=\"_parent\"><img src=\"https://colab.research.google.com/assets/colab-badge.svg\" alt=\"Open In Colab\"/></a>"
      ]
    },
    {
      "cell_type": "markdown",
      "source": [
        "# **Linear Regression**\n",
        "\n",
        "The term regression is used when you try to find the relationship between variables.\n",
        "\n",
        "In Machine Learning, and in statistical modeling, that relationship is used to predict the outcome of future events.\n",
        "\n",
        "Linear regression uses the relationship between the data-points to draw a straight line through all them.\n",
        "\n",
        "This line can be used to predict future values."
      ],
      "metadata": {
        "id": "5SvqEx_5xn59"
      }
    },
    {
      "cell_type": "markdown",
      "source": [
        "# **How Does it Work?**\n",
        "\n",
        "In the example below, the x-axis represents age, and the y-axis represents speed. We have registered the age and speed of 13 cars: "
      ],
      "metadata": {
        "id": "rQ86pC7Mz0sH"
      }
    },
    {
      "cell_type": "markdown",
      "source": [
        "# **STEP 1 : Draw the equivalent scatter**"
      ],
      "metadata": {
        "id": "JdMU5i9Y0Mtw"
      }
    },
    {
      "cell_type": "code",
      "source": [
        "import matplotlib.pyplot as plt\n",
        "\n",
        "car_age = [5,7,8,7,2,17,2,9,4,11,12,9,6]\n",
        "car_speed = [99,86,87,88,111,86,103,87,94,78,77,85,86]\n",
        "\n",
        "plt.scatter(car_age, car_speed, 10)\n",
        "plt.show()"
      ],
      "metadata": {
        "colab": {
          "base_uri": "https://localhost:8080/",
          "height": 265
        },
        "id": "AtyFdNch0VYn",
        "outputId": "d19249a1-cbe6-4b84-ad0b-9993faf6742d"
      },
      "execution_count": 3,
      "outputs": [
        {
          "output_type": "display_data",
          "data": {
            "text/plain": [
              "<Figure size 432x288 with 1 Axes>"
            ],
            "image/png": "[encoded data removed]"
          },
          "metadata": {
            "needs_background": "light"
          }
        }
      ]
    },
    {
      "cell_type": "markdown",
      "source": [
        "# **STEP 2: Use Scipy to draw the linear regression line**"
      ],
      "metadata": {
        "id": "aqKtijIi08xi"
      }
    },
    {
      "cell_type": "code",
      "source": [
        "import matplotlib\n",
        "matplotlib.use('Agg')\n",
        "import matplotlib.pyplot as plt\n",
        "from scipy import stats\n",
        "\n",
        "x = [5,7,8,7,2,17,2,9,4,11,12,9,6]\n",
        "y = [99,86,87,88,111,86,103,87,94,78,77,85,86]\n",
        "\n",
        "\n",
        "slope, intercept, rvalue, pvalue, std_err= stats.linregress(x, y)\n",
        "\n",
        "print(\"slope: \", slope)\n",
        "print(\"intercept: \",intercept)\n",
        "print(\"rvalue: \", rvalue)\n",
        "print(\"pvalue: \", pvalue)\n",
        "print(\"std_err: \" ,std_err)\n",
        "\n",
        "def myfunc(x):\n",
        "  return slope * x + intercept\n",
        "\n",
        "mymodel = list(map(myfunc, x))\n",
        "\n",
        "plt.scatter(x, y)\n",
        "plt.plot(x, mymodel) #this is the responsible instruction for making the linear regression line\n",
        "plt.show()"
      ],
      "metadata": {
        "colab": {
          "base_uri": "https://localhost:8080/",
          "height": 356
        },
        "id": "BL_RhCEG1N86",
        "outputId": "cc1ec934-5467-44b6-f9c6-4c563391b411"
      },
      "execution_count": 11,
      "outputs": [
        {
          "output_type": "stream",
          "name": "stdout",
          "text": [
            "slope:  -1.7512877115526118\n",
            "intercept:  103.10596026490066\n",
            "rvalue:  -0.758591524376155\n",
            "pvalue:  0.0026468739224561064\n",
            "std_err:  0.453536157607742\n"
          ]
        },
        {
          "output_type": "display_data",
          "data": {
            "text/plain": [
              "<Figure size 432x288 with 1 Axes>"
            ],
            "image/png": "[encoded data removed]"
          },
          "metadata": {
            "needs_background": "light"
          }
        }
      ]
    }
  ]
}